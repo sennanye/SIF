{
 "cells": [
  {
   "cell_type": "markdown",
   "id": "8b505078",
   "metadata": {},
   "source": [
    "1. \n",
    "We set the following linear regression model:\n",
    "$$ Vote_i = \\beta_1 + \\beta_2 Growth_i+ \\beta_3 Inflat_i + e_i$$\n",
    "\n",
    "The model's $R^2$ is $0.599$, indicating that the independent variables \"growth\" and \"inflat\" explain $59.9%$ of the variance in the dependent variable \"vote\". The high $R²$ value indicates reasonable explanatory power.\n",
    "\n",
    "The model's F-statistic is $17.19$, with a corresponding P-value of $2.71 * 10^{-5}$, indicating that the model rejects the joint hypothesis of $\\beta_1=0 $, $\\beta_2 =0$, and $\\beta_3=0$ at a significance level of less than $1%$, making the model overall significant.\n",
    "\n",
    "The regression coefficient (const) is $48.7571$, with a standard error of $0.900$. The corresponding null hypothesis t-value is $54.162$, rejecting the null hypothesis at a significance level of less than $1%$. In economic terms, when growth and inflatment are $0$, the value of vote of demography is $48.7571$.\n",
    "\n",
    "The regression coefficient for growth is $0.9559$, with a standard error of $0.166$. The corresponding null hypothesis t-value is $5.765$, rejecting the null hypothesis at a significance level of less than $1%$. The economic significance indicates that, controlling for a constant inflation rate, under Democratic administrations (Republican administrations), a $1%$ increase in economic growth is associated with a $0.9559%$ increase (decrease) in Democratic vote share.\n",
    "\n",
    "The regression coefficient for inflat is $0.1329$, with a standard error of $0.249$. The corresponding null hypothesis t-value is $0.533$, and the corresponding p-value is $0.599$, indicating that we cannot definitively reject the null hypothesis. The economic significance indicates that, controlling for a constant economic growth rate, under Democratic administrations (Republican administrations), a $1%$ increase in inflation is associated with a $0.13%$ increase (decrease) in Democratic vote share.\n",
    "\n",
    "The model's residual standard error is $4.447$, and the residual degrees of freedom are $23$."
   ]
  },
  {
   "cell_type": "markdown",
   "id": "8966a228",
   "metadata": {},
   "source": [
    "2. According to the forecast results, when the Democratic Party is in power and the economic growth rate and inflation rate are set at $3%$, the Democratic Party's vote share is $52.023%$."
   ]
  },
  {
   "cell_type": "markdown",
   "id": "cf2d4574",
   "metadata": {},
   "source": [
    "3. According to the forecast results, when the Republicans are in power and the economic growth rate and inflation rate are set at $3%$, the Republican vote share is $45.49%$."
   ]
  },
  {
   "cell_type": "markdown",
   "id": "dcf6bbd1",
   "metadata": {},
   "source": [
    "4. We need to test whether the Democratic vote in situation a. equals the Republican vote in situation b., that is, $$H_0: \\hat{Vote_a} = 100 - \\hat{Vote_b}$$\n",
    "Substituting the predicted values ​​for each situation into $H_0$, we obtain $ H_0: β1 = 50$. The corresponding t-statistic is $-1.381$. At a two-tailed $5%$ significance level, the critical values ​​of the t-distribution with $23$ degrees of freedom are $[-2.069, 2.069]$. We do not reject $H_0$ at the $5%$ significance level."
   ]
  },
  {
   "cell_type": "markdown",
   "id": "9ecbbaa4",
   "metadata": {},
   "source": [
    "5. The model predicted a Democratic vote share of $52.516%$, corresponding to a Republican vote share of $47.484%$. The actual Democratic vote share was $49.25%$, a difference of $3.261%$. However, the prediction still fell within the two-sided 10% confidence interval($[44.536, 60.497]$)."
   ]
  }
 ],
 "metadata": {
  "language_info": {
   "name": "python"
  }
 },
 "nbformat": 4,
 "nbformat_minor": 5
}
